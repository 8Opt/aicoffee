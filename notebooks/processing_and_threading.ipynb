{
 "cells": [
  {
   "cell_type": "markdown",
   "metadata": {},
   "source": [
    "# Multi-threading and Multi-Processing\n",
    "\n",
    "### Recommend readings:\n",
    "\n",
    "1. [Difference Between Multithreading vs Multiprocessing in Python](https://www.geeksforgeeks.org/difference-between-multithreading-vs-multiprocessing-in-python/)\n",
    "2. [Multithreading vs. Multiprocessing in Python](https://towardsdatascience.com/multithreading-vs-multiprocessing-in-python-3afeb73e105f)\n",
    "3. [Python guide: Using multiprocessing versus multithreading](https://medium.com/capital-one-tech/python-guide-using-multiprocessing-versus-multithreading-55c4ea1788cd)"
   ]
  },
  {
   "cell_type": "code",
   "execution_count": null,
   "metadata": {},
   "outputs": [],
   "source": [
    "import time\n",
    "\n",
    "\"\"\"\n",
    "NOTE: if you want have a better understanding about how \n",
    "mulit- program execute, uncomment the `print(..)` line.\n",
    "\"\"\"\n",
    "\n",
    "idle_time = 0.2\n",
    "\n",
    "def calc_square(numbers: list) -> list: \n",
    "    print(\"calculate square numbers\")\n",
    "    results = []\n",
    "    for n in numbers: \n",
    "        time.sleep(idle_time)\n",
    "        # print(f\"square of {n} =>> {n*n}\")\n",
    "        results.append(n*n)\n",
    "    return results\n",
    "\n",
    "def calc_cube(numbers: list) -> list: \n",
    "    print(\"calculate cube numbers\")\n",
    "    results = []\n",
    "    for n in numbers: \n",
    "        time.sleep(idle_time)\n",
    "        # print(f\"cube of {n} =>> {n*n*n}\")\n",
    "        results.append(n*n*n)\n",
    "    return results"
   ]
  },
  {
   "cell_type": "code",
   "execution_count": 4,
   "metadata": {},
   "outputs": [
    {
     "data": {
      "text/plain": [
       "[2,\n",
       " 3,\n",
       " 5,\n",
       " 7,\n",
       " 11,\n",
       " 13,\n",
       " 17,\n",
       " 19,\n",
       " 23,\n",
       " 29,\n",
       " 31,\n",
       " 37,\n",
       " 41,\n",
       " 43,\n",
       " 47,\n",
       " 53,\n",
       " 59,\n",
       " 61,\n",
       " 67,\n",
       " 71,\n",
       " 73,\n",
       " 79,\n",
       " 83,\n",
       " 89,\n",
       " 97,\n",
       " 101,\n",
       " 103,\n",
       " 107,\n",
       " 109,\n",
       " 113,\n",
       " 127,\n",
       " 131,\n",
       " 137,\n",
       " 139,\n",
       " 149,\n",
       " 151,\n",
       " 157,\n",
       " 163,\n",
       " 167,\n",
       " 173,\n",
       " 179,\n",
       " 181,\n",
       " 191,\n",
       " 193,\n",
       " 197,\n",
       " 199,\n",
       " 211,\n",
       " 223,\n",
       " 227,\n",
       " 229,\n",
       " 233,\n",
       " 239,\n",
       " 241,\n",
       " 251,\n",
       " 257,\n",
       " 263,\n",
       " 269,\n",
       " 271,\n",
       " 277,\n",
       " 281,\n",
       " 283,\n",
       " 293,\n",
       " 307,\n",
       " 311,\n",
       " 313,\n",
       " 317,\n",
       " 331,\n",
       " 337,\n",
       " 347,\n",
       " 349,\n",
       " 353,\n",
       " 359,\n",
       " 367,\n",
       " 373,\n",
       " 379,\n",
       " 383,\n",
       " 389,\n",
       " 397,\n",
       " 401,\n",
       " 409,\n",
       " 419,\n",
       " 421,\n",
       " 431,\n",
       " 433,\n",
       " 439,\n",
       " 443,\n",
       " 449,\n",
       " 457,\n",
       " 461,\n",
       " 463,\n",
       " 467,\n",
       " 479,\n",
       " 487,\n",
       " 491,\n",
       " 499,\n",
       " 503,\n",
       " 509,\n",
       " 521,\n",
       " 523,\n",
       " 541]"
      ]
     },
     "execution_count": 4,
     "metadata": {},
     "output_type": "execute_result"
    }
   ],
   "source": [
    "def generate_prime_numbers(n):\n",
    "  \"\"\"Generates a list of the first n prime numbers.\"\"\"\n",
    "  primes = []\n",
    "  num = 2\n",
    "  while len(primes) < n:\n",
    "    is_prime = True\n",
    "    for i in range(2, int(num**0.5) + 1):\n",
    "      if num % i == 0:\n",
    "        is_prime = False\n",
    "        break\n",
    "    if is_prime:\n",
    "      primes.append(num)\n",
    "    num += 1\n",
    "  return primes\n",
    "\n",
    "# Generate a list of the first 100 prime numbers\n",
    "prime_numbers = generate_prime_numbers(100)\n",
    "prime_numbers"
   ]
  },
  {
   "cell_type": "code",
   "execution_count": 8,
   "metadata": {},
   "outputs": [
    {
     "name": "stdout",
     "output_type": "stream",
     "text": [
      "calculate square numbers\n",
      "calculate cube numbers\n",
      "Done in : 40.05647683143616\n"
     ]
    }
   ],
   "source": [
    "start_time = time.time()\n",
    "\n",
    "squares = calc_square(prime_numbers)\n",
    "cubes = calc_cube(prime_numbers)\n",
    "\n",
    "\n",
    "print(f\"Done in : {time.time() - start_time}\")"
   ]
  },
  {
   "cell_type": "markdown",
   "metadata": {},
   "source": [
    "# Threading"
   ]
  },
  {
   "cell_type": "code",
   "execution_count": null,
   "metadata": {},
   "outputs": [
    {
     "name": "stdout",
     "output_type": "stream",
     "text": [
      "calculate square numbers\n",
      "calculate cube numbers\n",
      "Done in : 20.026913166046143\n"
     ]
    }
   ],
   "source": [
    "# Using multi-threading\n",
    "import threading\n",
    "\n",
    "\n",
    "start_time = time.time()\n",
    "\n",
    "\n",
    "# Create threads\n",
    "thread_1 = threading.Thread(target=calc_square, args=(prime_numbers,))\n",
    "thread_2 = threading.Thread(target=calc_cube, args=(prime_numbers, ))\n",
    "\n",
    "\n",
    "thread_1.start()\n",
    "thread_2.start()\n",
    "\n",
    "\n",
    "# `.join()` methods delays a program’s flow of execution until the target thread has been completely read.\n",
    "# Summarize: it make sure all threads are executed safely.\n",
    "thread_1.join()\n",
    "thread_2.join()\n",
    "\n",
    "\n",
    "print(f\"Done in : {time.time() - start_time}\")"
   ]
  },
  {
   "cell_type": "markdown",
   "metadata": {},
   "source": [
    "# Multi-processing"
   ]
  },
  {
   "cell_type": "code",
   "execution_count": null,
   "metadata": {},
   "outputs": [
    {
     "name": "stdout",
     "output_type": "stream",
     "text": [
      "calculate square numbers\n",
      "calculate cube numbers\n",
      "Done in : 20.046017169952393\n"
     ]
    }
   ],
   "source": [
    "# Multi-processing\n",
    "import multiprocessing\n",
    "\n",
    "\n",
    "start_time = time.time()\n",
    "\n",
    "\n",
    "# Create processed\n",
    "process_1 = multiprocessing.Process(target=calc_square, args=(prime_numbers, ))\n",
    "process_2 = multiprocessing.Process(target=calc_cube, args=(prime_numbers, ))\n",
    "\n",
    "\n",
    "process_1.start()\n",
    "process_2.start()\n",
    "\n",
    "\n",
    "process_1.join()\n",
    "process_2.join()\n",
    "\n",
    "\n",
    "print(f\"Done in : {time.time() - start_time}\")\n",
    "\n",
    "\"\"\"\n",
    "NOTE: You can open the task manager to check whether the multiple processes\n",
    "are executed or not. In this example, you should see two processes of this \n",
    "python script (`python.exe`). \n",
    "\"\"\""
   ]
  },
  {
   "cell_type": "code",
   "execution_count": 22,
   "metadata": {},
   "outputs": [
    {
     "name": "stdout",
     "output_type": "stream",
     "text": [
      "calculate square numbers\n",
      "Done in : 20.045997142791748\n",
      "square_results: ['Outside']\n"
     ]
    }
   ],
   "source": [
    "\"\"\"\n",
    "Every process has its own address space (vmem) => variables are not shareable.\n",
    "Let's try this to check if process can write data to a global variable.\n",
    "\"\"\"\n",
    "start_time = time.time()\n",
    "square_results = [\"Outside\"]\n",
    "\n",
    "def calc_square_sharing(numbers: list) -> list: \n",
    "    print(\"calculate square numbers\")\n",
    "    global square_results\n",
    "    results = []\n",
    "    for n in numbers: \n",
    "        time.sleep(idle_time)           # idle_time = 0.2\n",
    "        results.append(n*n)\n",
    "        square_results.append(n*n)\n",
    "    return results\n",
    "\n",
    "\n",
    "\n",
    "p_sharing = multiprocessing.Process(target=calc_square_sharing, args=(prime_numbers, ))\n",
    "p_sharing.start()\n",
    "p_sharing.join()\n",
    "\n",
    "print(f\"Done in : {time.time() - start_time}\")\n",
    "print(f\"square_results: {square_results}\")"
   ]
  },
  {
   "cell_type": "code",
   "execution_count": 24,
   "metadata": {},
   "outputs": [
    {
     "name": "stdout",
     "output_type": "stream",
     "text": [
      "calculate square numbers\n",
      "within-process-variable: ['Outside', 4, 9, 25, 49, 121, 169, 289, 361, 529, 841, 961, 1369, 1681, 1849, 2209, 2809, 3481, 3721, 4489, 5041, 5329, 6241, 6889, 7921, 9409, 10201, 10609, 11449, 11881, 12769, 16129, 17161, 18769, 19321, 22201, 22801, 24649, 26569, 27889, 29929, 32041, 32761, 36481, 37249, 38809, 39601, 44521, 49729, 51529, 52441, 54289, 57121, 58081, 63001, 66049, 69169, 72361, 73441, 76729, 78961, 80089, 85849, 94249, 96721, 97969, 100489, 109561, 113569, 120409, 121801, 124609, 128881, 134689, 139129, 143641, 146689, 151321, 157609, 160801, 167281, 175561, 177241, 185761, 187489, 192721, 196249, 201601, 208849, 212521, 214369, 218089, 229441, 237169, 241081, 249001, 253009, 259081, 271441, 273529, 292681]\n",
      "Done in : 20.051899433135986\n",
      "square_results: ['Outside']\n"
     ]
    }
   ],
   "source": [
    "\"\"\"\n",
    "Now, let's check if process can write data to a within-process-variable.\n",
    "\"\"\"\n",
    "\n",
    "start_time = time.time()\n",
    "square_results = [\"Outside\"]\n",
    "\n",
    "\n",
    "def calc_square_within(numbers: list) -> list: \n",
    "    print(\"calculate square numbers\")\n",
    "    global square_results\n",
    "    results = []\n",
    "    for n in numbers: \n",
    "        time.sleep(idle_time)           # idle_time = 0.2\n",
    "        results.append(n*n)\n",
    "        square_results.append(n*n)\n",
    "    print(f\"within-process-variable: {square_results}\")\n",
    "    return results\n",
    "\n",
    "\n",
    "p_within = multiprocessing.Process(target=calc_square_within, args=(prime_numbers, ))\n",
    "p_within.start()\n",
    "p_within.join()\n",
    "\n",
    "print(f\"Done in : {time.time() - start_time}\")\n",
    "print(f\"square_results: {square_results}\")"
   ]
  },
  {
   "cell_type": "markdown",
   "metadata": {},
   "source": [
    "## Sharing data between multiple processes"
   ]
  },
  {
   "cell_type": "code",
   "execution_count": 28,
   "metadata": {},
   "outputs": [
    {
     "name": "stdout",
     "output_type": "stream",
     "text": [
      "calculate square numbers\n",
      "Done in : 20.04759168624878\n",
      "square_results: [4, 9, 25, 49, 121, 169, 289, 361, 529, 841, 961, 1369, 1681, 1849, 2209, 2809, 3481, 3721, 4489, 5041, 5329, 6241, 6889, 7921, 9409, 10201, 10609, 11449, 11881, 12769, 16129, 17161, 18769, 19321, 22201, 22801, 24649, 26569, 27889, 29929, 32041, 32761, 36481, 37249, 38809, 39601, 44521, 49729, 51529, 52441, 54289, 57121, 58081, 63001, 66049, 69169, 72361, 73441, 76729, 78961, 80089, 85849, 94249, 96721, 97969, 100489, 109561, 113569, 120409, 121801, 124609, 128881, 134689, 139129, 143641, 146689, 151321, 157609, 160801, 167281, 175561, 177241, 185761, 187489, 192721, 196249, 201601, 208849, 212521, 214369, 218089, 229441, 237169, 241081, 249001, 253009, 259081, 271441, 273529, 292681]\n"
     ]
    },
    {
     "data": {
      "text/plain": [
       "'\\nNOTE: using `[:]` operators to print all elements in an array. \\n'"
      ]
     },
     "execution_count": 28,
     "metadata": {},
     "output_type": "execute_result"
    }
   ],
   "source": [
    "# Using array\n",
    "\n",
    "start_time = time.time()\n",
    "\n",
    "# Using sharing memory to share data between processes\n",
    "shm_res_arr = multiprocessing.Array(\n",
    "                                    typecode_or_type='i', \n",
    "                                    size_or_initializer=len(prime_numbers), \n",
    "                                    )\n",
    "\n",
    "def calc_square_shm(numbers: list, shm_results) -> list: \n",
    "    print(\"calculate square numbers\")\n",
    "    for idx, n in enumerate(numbers): \n",
    "        time.sleep(idle_time)\n",
    "        shm_results[idx] = n*n\n",
    "        \n",
    "p_shm = multiprocessing.Process(target=calc_square_shm, args=(prime_numbers, shm_res_arr))\n",
    "p_shm.start()\n",
    "p_shm.join()\n",
    "\n",
    "print(f\"Done in : {time.time() - start_time}\")\n",
    "print(f\"square_results: {shm_res_arr[:]}\")\n",
    "\n",
    "\"\"\"\n",
    "NOTE: using `[:]` operators to print all elements in an array. \n",
    "\"\"\""
   ]
  },
  {
   "cell_type": "code",
   "execution_count": null,
   "metadata": {},
   "outputs": [
    {
     "name": "stdout",
     "output_type": "stream",
     "text": [
      "calculate square numbers\n",
      "Done in : 20.053504467010498\n",
      "shm_results: [4, 9, 25, 49, 121, 169, 289, 361, 529, 841, 961, 1369, 1681, 1849, 2209, 2809, 3481, 3721, 4489, 5041, 5329, 6241, 6889, 7921, 9409, 10201, 10609, 11449, 11881, 12769, 16129, 17161, 18769, 19321, 22201, 22801, 24649, 26569, 27889, 29929, 32041, 32761, 36481, 37249, 38809, 39601, 44521, 49729, 51529, 52441, 54289, 57121, 58081, 63001, 66049, 69169, 72361, 73441, 76729, 78961, 80089, 85849, 94249, 96721, 97969, 100489, 109561, 113569, 120409, 121801, 124609, 128881, 134689, 139129, 143641, 146689, 151321, 157609, 160801, 167281, 175561, 177241, 185761, 187489, 192721, 196249, 201601, 208849, 212521, 214369, 218089, 229441, 237169, 241081, 249001, 253009, 259081, 271441, 273529, 292681]\n",
      "shm_values result: 8384727.0\n"
     ]
    },
    {
     "data": {
      "text/plain": [
       "'\\nNOTE: using `[:]` operators to print all elements in an array. \\n'"
      ]
     },
     "execution_count": 30,
     "metadata": {},
     "output_type": "execute_result"
    }
   ],
   "source": [
    "\"\"\"\n",
    "NOTE: Now, add a value to calculate during a process.\n",
    "\"\"\"\n",
    "\n",
    "start_time = time.time()\n",
    "\n",
    "# Using sharing memory to share data between processes\n",
    "shm_results = multiprocessing.Array(\n",
    "                                    typecode_or_type='i', \n",
    "                                    size_or_initializer=len(prime_numbers), \n",
    "                                    )\n",
    "shm_values = multiprocessing.Value('d', 0.0)\n",
    "\n",
    "def calc_square_shm(numbers: list, results, values) -> list: \n",
    "    print(\"calculate square numbers\")\n",
    "    for idx, n in enumerate(numbers): \n",
    "        time.sleep(idle_time)\n",
    "        results[idx] = n*n\n",
    "        values.value += results[idx]\n",
    "\n",
    "p_shm = multiprocessing.Process(target=calc_square_shm, args=(prime_numbers, shm_results, shm_values))\n",
    "p_shm.start()\n",
    "p_shm.join()\n",
    "\n",
    "print(f\"Done in : {time.time() - start_time}\")\n",
    "print(f\"shm_results: {shm_results[:]}\")\n",
    "print(f\"shm_values result: {shm_values.value}\")\n",
    "\"\"\"\n",
    "NOTE: using `[:]` operators to print all elements in an array. \n",
    "\"\"\""
   ]
  },
  {
   "cell_type": "markdown",
   "metadata": {},
   "source": [
    "## Sharing data between Processes using Queue"
   ]
  },
  {
   "cell_type": "code",
   "execution_count": 32,
   "metadata": {},
   "outputs": [
    {
     "name": "stdout",
     "output_type": "stream",
     "text": [
      "calculate square numbers\n"
     ]
    },
    {
     "name": "stdout",
     "output_type": "stream",
     "text": [
      "Done in : 20.058963775634766\n",
      "4\n",
      "9\n",
      "25\n",
      "49\n",
      "121\n",
      "169\n",
      "289\n",
      "361\n",
      "529\n",
      "841\n",
      "961\n",
      "1369\n",
      "1681\n",
      "1849\n",
      "2209\n",
      "2809\n",
      "3481\n",
      "3721\n",
      "4489\n",
      "5041\n",
      "5329\n",
      "6241\n",
      "6889\n",
      "7921\n",
      "9409\n",
      "10201\n",
      "10609\n",
      "11449\n",
      "11881\n",
      "12769\n",
      "16129\n",
      "17161\n",
      "18769\n",
      "19321\n",
      "22201\n",
      "22801\n",
      "24649\n",
      "26569\n",
      "27889\n",
      "29929\n",
      "32041\n",
      "32761\n",
      "36481\n",
      "37249\n",
      "38809\n",
      "39601\n",
      "44521\n",
      "49729\n",
      "51529\n",
      "52441\n",
      "54289\n",
      "57121\n",
      "58081\n",
      "63001\n",
      "66049\n",
      "69169\n",
      "72361\n",
      "73441\n",
      "76729\n",
      "78961\n",
      "80089\n",
      "85849\n",
      "94249\n",
      "96721\n",
      "97969\n",
      "100489\n",
      "109561\n",
      "113569\n",
      "120409\n",
      "121801\n",
      "124609\n",
      "128881\n",
      "134689\n",
      "139129\n",
      "143641\n",
      "146689\n",
      "151321\n",
      "157609\n",
      "160801\n",
      "167281\n",
      "175561\n",
      "177241\n",
      "185761\n",
      "187489\n",
      "192721\n",
      "196249\n",
      "201601\n",
      "208849\n",
      "212521\n",
      "214369\n",
      "218089\n",
      "229441\n",
      "237169\n",
      "241081\n",
      "249001\n",
      "253009\n",
      "259081\n",
      "271441\n",
      "273529\n",
      "292681\n",
      "Done in with release time : 20.072868585586548\n"
     ]
    }
   ],
   "source": [
    "from multiprocessing import Queue\n",
    "\"\"\"\n",
    "NOTE: \n",
    "A Queue Data Structure is a fundamental concept in computer science used for storing and managing data in a specific order. It follows the principle of \"First in, First out\" (FIFO), where the first element added to the queue is the first one to be removed.\n",
    "\"\"\"\n",
    "\n",
    "\n",
    "start_time = time.time()\n",
    "\n",
    "square_queue = Queue()\n",
    "\n",
    "def calc_square_shm(numbers: list, queue) -> list: \n",
    "    print(\"calculate square numbers\")\n",
    "    for idx, n in enumerate(numbers): \n",
    "        time.sleep(idle_time)\n",
    "        queue.put(n*n)\n",
    "\n",
    "p_shm = multiprocessing.Process(target=calc_square_shm, args=(prime_numbers, square_queue))\n",
    "p_shm.start()\n",
    "p_shm.join()\n",
    "\n",
    "print(f\"Done in : {time.time() - start_time}\")\n",
    "\n",
    "while not square_queue.empty(): \n",
    "    # Release result in queue\n",
    "    print(square_queue.get())\n",
    "\n",
    "print(f\"Done in with release time : {time.time() - start_time}\")"
   ]
  },
  {
   "cell_type": "markdown",
   "metadata": {},
   "source": [
    "## Multiprocessing Lock"
   ]
  },
  {
   "cell_type": "code",
   "execution_count": 53,
   "metadata": {},
   "outputs": [
    {
     "name": "stdout",
     "output_type": "stream",
     "text": [
      "Done in : 20.04433536529541\n",
      "Current balance is 200\n"
     ]
    },
    {
     "data": {
      "text/plain": [
       "'\\nNOTE: \\nThe value is 200 happens in normal cases, because the program is add 1 and minus 1 to the same variable. \\nHowever, it would be a case that the result might be 201, or else. As a matter of fact, sometimes the process is slower that allows other process to access the same variables many times\\n'"
      ]
     },
     "execution_count": 53,
     "metadata": {},
     "output_type": "execute_result"
    }
   ],
   "source": [
    "total_days = 100\n",
    "\n",
    "def deposit(balance): \n",
    "    for i in range(total_days): \n",
    "        time.sleep(idle_time)\n",
    "        balance.value = balance.value + 1\n",
    "\n",
    "def withdraw(balance): \n",
    "    for i in range(total_days): \n",
    "        time.sleep(idle_time)\n",
    "        balance.value = balance.value - 1\n",
    "\n",
    "\n",
    "balance = multiprocessing.Value('i', 200)\n",
    "\n",
    "start_time = time.time()\n",
    "\n",
    "d = multiprocessing.Process(target=deposit, args=(balance, ))\n",
    "w = multiprocessing.Process(target=withdraw, args=(balance, ))\n",
    "\n",
    "\n",
    "d.start()\n",
    "w.start()\n",
    "\n",
    "\n",
    "d.join()\n",
    "w.join()\n",
    "\n",
    "\n",
    "print(f\"Done in : {time.time() - start_time}\")\n",
    "print(f\"Current balance is {balance.value}\")\n",
    "\n",
    "\n",
    "\"\"\"\n",
    "NOTE: \n",
    "The value is 200 happens in normal cases, because the program is add 1 and minus 1 to the same variable. \n",
    "However, it would be a case that the result might be 201, or else. As a matter of fact, sometimes the process is slower that allows other process to access the same variables many times\n",
    "\"\"\""
   ]
  },
  {
   "cell_type": "code",
   "execution_count": 55,
   "metadata": {},
   "outputs": [
    {
     "name": "stdout",
     "output_type": "stream",
     "text": [
      "Done in : 20.044021368026733\n",
      "Current balance is 200\n"
     ]
    },
    {
     "data": {
      "text/plain": [
       "'\\nNOTE: Now, the value is always 200\\n'"
      ]
     },
     "execution_count": 55,
     "metadata": {},
     "output_type": "execute_result"
    }
   ],
   "source": [
    "\"\"\"\n",
    "Now, let's create a lock\n",
    "\"\"\"\n",
    "\n",
    "total_days = 100\n",
    "\n",
    "def deposit_with_lock(balance, lock): \n",
    "    for i in range(total_days): \n",
    "        time.sleep(idle_time)\n",
    "        lock.acquire()\n",
    "        balance.value = balance.value + 1\n",
    "        lock.release()\n",
    "\n",
    "def withdraw_with_lock(balance, lock): \n",
    "    for i in range(total_days): \n",
    "        time.sleep(idle_time)\n",
    "        lock.acquire()\n",
    "        balance.value = balance.value - 1\n",
    "        lock.release()\n",
    "\n",
    "balance = multiprocessing.Value('i', 200)\n",
    "lock = multiprocessing.Lock()\n",
    "start_time = time.time()\n",
    "\n",
    "d = multiprocessing.Process(target=deposit_with_lock, args=(balance, lock))\n",
    "w = multiprocessing.Process(target=withdraw_with_lock, args=(balance, lock))\n",
    "\n",
    "\n",
    "d.start()\n",
    "w.start()\n",
    "\n",
    "\n",
    "d.join()\n",
    "w.join()\n",
    "\n",
    "\n",
    "print(f\"Done in : {time.time() - start_time}\")\n",
    "print(f\"Current balance is {balance.value}\")\n",
    "\n",
    "\n",
    "\"\"\"\n",
    "NOTE: Now, the value is always 200\n",
    "\"\"\""
   ]
  },
  {
   "cell_type": "markdown",
   "metadata": {},
   "source": [
    "## Multi-processing with Map-Reduce"
   ]
  },
  {
   "cell_type": "code",
   "execution_count": 69,
   "metadata": {},
   "outputs": [
    {
     "name": "stdout",
     "output_type": "stream",
     "text": [
      "Done in: 0.08231568336486816\n"
     ]
    }
   ],
   "source": [
    "from multiprocessing import Pool\n",
    "\n",
    "\"\"\"\n",
    "The above function returns a list which is quite in contrast to \n",
    "the natural logic of MapReduce. I will re-define the logic in \n",
    "the below code.\n",
    "\"\"\"\n",
    "\n",
    "def calc_square_per_var(n): \n",
    "    return n*n\n",
    "\n",
    "start_time = time.time()\n",
    "pool = Pool()\n",
    "results = pool.map(func=calc_square_per_var, iterable=prime_numbers)\n",
    "pool.close()\n",
    "pool.join()     # Again, to make sure the process is done safely\n",
    "print(f\"Done in: {time.time() - start_time}\")"
   ]
  },
  {
   "cell_type": "code",
   "execution_count": 70,
   "metadata": {},
   "outputs": [
    {
     "name": "stdout",
     "output_type": "stream",
     "text": [
      "calculate square numbers\n",
      "Done in: 20.025547742843628\n"
     ]
    }
   ],
   "source": [
    "start_time = time.time()\n",
    "results = calc_square(prime_numbers)\n",
    "print(f\"Done in: {time.time() - start_time}\")"
   ]
  }
 ],
 "metadata": {
  "kernelspec": {
   "display_name": "viscomp",
   "language": "python",
   "name": "python3"
  },
  "language_info": {
   "codemirror_mode": {
    "name": "ipython",
    "version": 3
   },
   "file_extension": ".py",
   "mimetype": "text/x-python",
   "name": "python",
   "nbconvert_exporter": "python",
   "pygments_lexer": "ipython3",
   "version": "3.10.15"
  }
 },
 "nbformat": 4,
 "nbformat_minor": 2
}
